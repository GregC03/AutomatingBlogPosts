{
 "cells": [
  {
   "cell_type": "code",
   "execution_count": 53,
   "metadata": {},
   "outputs": [],
   "source": [
    "from pytrends.request import TrendReq\n",
    "import time\n",
    "import random\n",
    "\n",
    "\n",
    "class KeywordExtractor:\n",
    "    def __init__(self):\n",
    "        pass\n",
    "\n",
    "    def get_trending_keywords(self, query=\"FinTech\"):\n",
    "        try:\n",
    "            pytrends = TrendReq(hl='en-US', tz=360, timeout=(10, 25))\n",
    "            time.sleep(random.uniform(1, 5))  # Introduce a random delay\n",
    "            pytrends.build_payload([query], timeframe='today 12-m')\n",
    "            \n",
    "            data = pytrends.related_queries()\n",
    "\n",
    "            if not data or query not in data or data[query]['top'] is None:\n",
    "                print(f\"No trending data found for {query}.\")\n",
    "                return []\n",
    "\n",
    "            top_queries = data[query]['top']\n",
    "            return top_queries['query'].tolist()\n",
    "\n",
    "        except Exception as e:\n",
    "            print(f\"Error fetching Google Trends data: {e}\")\n",
    "            return []\n",
    "\n",
    "    def preprocess_keywords(self, keyword_list):\n",
    "        cleaned_keywords = list(set([kw.lower().strip() for kw in keyword_list if kw]))\n",
    "        return cleaned_keywords"
   ]
  },
  {
   "cell_type": "code",
   "execution_count": 54,
   "metadata": {},
   "outputs": [
    {
     "name": "stdout",
     "output_type": "stream",
     "text": [
      "Error fetching Google Trends data: list index out of range\n"
     ]
    },
    {
     "data": {
      "text/plain": [
       "[]"
      ]
     },
     "execution_count": 54,
     "metadata": {},
     "output_type": "execute_result"
    }
   ],
   "source": [
    "extractor = KeywordExtractor()\n",
    "keywords = extractor.get_trending_keywords(\"finance\")\n",
    "keywords"
   ]
  },
  {
   "cell_type": "code",
   "execution_count": null,
   "metadata": {},
   "outputs": [],
   "source": [
    "urls = get_google_search_results(\"FinTech startups\")\n",
    "print(\"Top URLs:\", urls)"
   ]
  },
  {
   "cell_type": "code",
   "execution_count": null,
   "metadata": {},
   "outputs": [],
   "source": [
    "for url in urls[:10]:  # Scrape top 3 URLs\n",
    "    data = scrape_keywords_from_url(url)\n",
    "    print(f\"Data from {url}: {data}\")"
   ]
  },
  {
   "cell_type": "code",
   "execution_count": null,
   "metadata": {},
   "outputs": [],
   "source": [
    "all_text = \" \".join([data['title'] + \" \" + \" \".join(data['headings']) + \" \" + data['meta_description'] for data in results])\n",
    "keywords = extract_keywords(all_text)\n",
    "print(\"Relevant Keywords:\", keywords)"
   ]
  }
 ],
 "metadata": {
  "kernelspec": {
   "display_name": "venv",
   "language": "python",
   "name": "python3"
  },
  "language_info": {
   "codemirror_mode": {
    "name": "ipython",
    "version": 3
   },
   "file_extension": ".py",
   "mimetype": "text/x-python",
   "name": "python",
   "nbconvert_exporter": "python",
   "pygments_lexer": "ipython3",
   "version": "3.11.2"
  }
 },
 "nbformat": 4,
 "nbformat_minor": 2
}
